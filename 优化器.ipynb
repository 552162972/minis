{
 "cells": [
  {
   "cell_type": "code",
   "execution_count": 1,
   "metadata": {},
   "outputs": [],
   "source": [
    "import tensorflow as tf\n",
    "import tensorflow.examples.tutorials.mnist.input_data as input_data"
   ]
  },
  {
   "cell_type": "code",
   "execution_count": 3,
   "metadata": {},
   "outputs": [
    {
     "name": "stdout",
     "output_type": "stream",
     "text": [
      "Extracting minist_data\\train-images-idx3-ubyte.gz\n",
      "Extracting minist_data\\train-labels-idx1-ubyte.gz\n",
      "Extracting minist_data\\t10k-images-idx3-ubyte.gz\n",
      "Extracting minist_data\\t10k-labels-idx1-ubyte.gz\n"
     ]
    }
   ],
   "source": [
    "#导入数据集\n",
    "minist = input_data.read_data_sets(\"minist_data\",one_hot=True)"
   ]
  },
  {
   "cell_type": "code",
   "execution_count": 10,
   "metadata": {},
   "outputs": [],
   "source": [
    "#每个批次的大小\n",
    "batch_size = 500\n",
    "#计算一共有多少个批次\n",
    "n_batch = minist.train.num_examples//batch_size\n",
    "\n",
    "#打定义占位符\n",
    "\n",
    "x = tf.placeholder(tf.float32,[None,784])\n",
    "y = tf.placeholder(tf.float32,[None,10])\n",
    "keep_prob = tf.placeholder(tf.float32)\n",
    "\n",
    "#创建简单网路\n",
    "\n",
    "w = tf.Variable(tf.zeros([784,10]))\n",
    "b = tf.Variable(tf.zeros([10]))\n",
    "prediction = tf.nn.softmax(tf.matmul(x,w)+b)\n",
    "\n",
    "#定义代价函数\n",
    "# loss = tf.reduce_mean(tf.square(y-prediction))\n",
    "\n",
    "loss = tf.reduce_mean(tf.nn.softmax_cross_entropy_with_logits_v2(labels=y,logits=prediction))#交叉熵\n",
    "\n",
    "#使用梯度下降\n",
    "# train_step = tf.train.GradientDescentOptimizer(0.2).minimize(loss)\n",
    "train_step = tf.train.AdamOptimizer(1e-2).minimize(loss)\n",
    "\n",
    "#初始化变量\n",
    "init = tf.global_variables_initializer()\n",
    "#结果存放在bool型列表中\n",
    "correct_prediction = tf.equal(tf.math.argmax(y,1),tf.math.argmax(prediction,1))\n",
    "#求准确率\n",
    "accuary = tf.reduce_mean(tf.cast(correct_prediction,tf.float32))\n"
   ]
  },
  {
   "cell_type": "code",
   "execution_count": 11,
   "metadata": {},
   "outputs": [
    {
     "name": "stdout",
     "output_type": "stream",
     "text": [
      "Iter0,Testing Accuary0.9122\n",
      "Iter1,Testing Accuary0.9209\n",
      "Iter2,Testing Accuary0.9249\n",
      "Iter3,Testing Accuary0.9269\n",
      "Iter4,Testing Accuary0.9263\n",
      "Iter5,Testing Accuary0.927\n",
      "Iter6,Testing Accuary0.9295\n",
      "Iter7,Testing Accuary0.9296\n",
      "Iter8,Testing Accuary0.9303\n",
      "Iter9,Testing Accuary0.9306\n",
      "Iter10,Testing Accuary0.9315\n",
      "Iter11,Testing Accuary0.9298\n",
      "Iter12,Testing Accuary0.9325\n",
      "Iter13,Testing Accuary0.9321\n",
      "Iter14,Testing Accuary0.9312\n",
      "Iter15,Testing Accuary0.9339\n",
      "Iter16,Testing Accuary0.9326\n",
      "Iter17,Testing Accuary0.9329\n",
      "Iter18,Testing Accuary0.9317\n",
      "Iter19,Testing Accuary0.9329\n"
     ]
    }
   ],
   "source": [
    "with tf.Session() as sess:\n",
    "    sess.run(init)\n",
    "    for epoch in range(20):\n",
    "        for batch in range(n_batch):\n",
    "            batch_xs,batch_ys = minist.train.next_batch(batch_size)\n",
    "            sess.run(train_step,feed_dict={x:batch_xs,y:batch_ys})\n",
    "        acc = sess.run(accuary,feed_dict={x:minist.test.images,y:minist.test.labels})\n",
    "            \n",
    "        print('Iter'+str(epoch)+\",Testing Accuary\"+str(acc))"
   ]
  },
  {
   "cell_type": "code",
   "execution_count": null,
   "metadata": {},
   "outputs": [],
   "source": [
    "梯度下降\n",
    "Iter0,Testing Accuary0.7365\n",
    "Iter1,Testing Accuary0.8057\n",
    "Iter2,Testing Accuary0.8152\n",
    "Iter3,Testing Accuary0.8208\n",
    "Iter4,Testing Accuary0.8245\n",
    "Iter5,Testing Accuary0.8304\n",
    "Iter6,Testing Accuary0.863\n",
    "Iter7,Testing Accuary0.8802\n",
    "Iter8,Testing Accuary0.8891\n",
    "Iter9,Testing Accuary0.8938\n",
    "Iter10,Testing Accuary0.8948\n",
    "Iter11,Testing Accuary0.8981\n",
    "Iter12,Testing Accuary0.8991\n",
    "Iter13,Testing Accuary0.9002\n",
    "Iter14,Testing Accuary0.9008\n",
    "Iter15,Testing Accuary0.9023\n",
    "Iter16,Testing Accuary0.9039\n",
    "Iter17,Testing Accuary0.9044\n",
    "Iter18,Testing Accuary0.9049\n",
    "Iter19,Testing Accuary0.9057"
   ]
  }
 ],
 "metadata": {
  "kernelspec": {
   "display_name": "Python 3",
   "language": "python",
   "name": "python3"
  },
  "language_info": {
   "codemirror_mode": {
    "name": "ipython",
    "version": 3
   },
   "file_extension": ".py",
   "mimetype": "text/x-python",
   "name": "python",
   "nbconvert_exporter": "python",
   "pygments_lexer": "ipython3",
   "version": "3.6.5"
  }
 },
 "nbformat": 4,
 "nbformat_minor": 2
}
