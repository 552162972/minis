{
 "cells": [
  {
   "cell_type": "code",
   "execution_count": 1,
   "metadata": {},
   "outputs": [],
   "source": [
    "import tensorflow as tf\n",
    "import tensorflow.examples.tutorials.mnist.input_data as input_data\n"
   ]
  },
  {
   "cell_type": "code",
   "execution_count": 2,
   "metadata": {},
   "outputs": [
    {
     "name": "stdout",
     "output_type": "stream",
     "text": [
      "WARNING:tensorflow:From <ipython-input-2-09d8e7916f08>:2: read_data_sets (from tensorflow.contrib.learn.python.learn.datasets.mnist) is deprecated and will be removed in a future version.\n",
      "Instructions for updating:\n",
      "Please use alternatives such as official/mnist/dataset.py from tensorflow/models.\n",
      "WARNING:tensorflow:From h:\\ProgramData\\Anaconda3\\lib\\site-packages\\tensorflow\\contrib\\learn\\python\\learn\\datasets\\mnist.py:260: maybe_download (from tensorflow.contrib.learn.python.learn.datasets.base) is deprecated and will be removed in a future version.\n",
      "Instructions for updating:\n",
      "Please write your own downloading logic.\n",
      "WARNING:tensorflow:From h:\\ProgramData\\Anaconda3\\lib\\site-packages\\tensorflow\\contrib\\learn\\python\\learn\\datasets\\mnist.py:262: extract_images (from tensorflow.contrib.learn.python.learn.datasets.mnist) is deprecated and will be removed in a future version.\n",
      "Instructions for updating:\n",
      "Please use tf.data to implement this functionality.\n",
      "Extracting minist_data\\train-images-idx3-ubyte.gz\n",
      "WARNING:tensorflow:From h:\\ProgramData\\Anaconda3\\lib\\site-packages\\tensorflow\\contrib\\learn\\python\\learn\\datasets\\mnist.py:267: extract_labels (from tensorflow.contrib.learn.python.learn.datasets.mnist) is deprecated and will be removed in a future version.\n",
      "Instructions for updating:\n",
      "Please use tf.data to implement this functionality.\n",
      "Extracting minist_data\\train-labels-idx1-ubyte.gz\n",
      "WARNING:tensorflow:From h:\\ProgramData\\Anaconda3\\lib\\site-packages\\tensorflow\\contrib\\learn\\python\\learn\\datasets\\mnist.py:110: dense_to_one_hot (from tensorflow.contrib.learn.python.learn.datasets.mnist) is deprecated and will be removed in a future version.\n",
      "Instructions for updating:\n",
      "Please use tf.one_hot on tensors.\n",
      "Extracting minist_data\\t10k-images-idx3-ubyte.gz\n",
      "Extracting minist_data\\t10k-labels-idx1-ubyte.gz\n",
      "WARNING:tensorflow:From h:\\ProgramData\\Anaconda3\\lib\\site-packages\\tensorflow\\contrib\\learn\\python\\learn\\datasets\\mnist.py:290: DataSet.__init__ (from tensorflow.contrib.learn.python.learn.datasets.mnist) is deprecated and will be removed in a future version.\n",
      "Instructions for updating:\n",
      "Please use alternatives such as official/mnist/dataset.py from tensorflow/models.\n"
     ]
    }
   ],
   "source": [
    "#导入数据集\n",
    "minist = input_data.read_data_sets(\"minist_data\",one_hot=True)"
   ]
  },
  {
   "cell_type": "code",
   "execution_count": 3,
   "metadata": {},
   "outputs": [],
   "source": [
    "#每个批次的大小\n",
    "batch_size = 500\n",
    "#计算一共有多少个批次\n",
    "n_batch = minist.train.num_examples//batch_size\n",
    "\n",
    "#打定义占位符\n",
    "with tf.name_scope(\"input\"):\n",
    "    x = tf.placeholder(tf.float32,[None,784],name=\"x_input\")\n",
    "    y = tf.placeholder(tf.float32,[None,10],name=\"y_input\")"
   ]
  },
  {
   "cell_type": "code",
   "execution_count": 5,
   "metadata": {},
   "outputs": [],
   "source": [
    "#创建简单网路\n",
    "with tf.name_scope(\"layers\"):\n",
    "    with tf.name_scope(\"weights\"):\n",
    "        w = tf.Variable(tf.zeros([784,10]),name=\"w\")\n",
    "    with tf.name_scope(\"biases\"):\n",
    "        b = tf.Variable(tf.zeros([10]),name=\"b\")\n",
    "    with tf.name_scope(\"w_plus_b\"):\n",
    "        w_plus_b = tf.matmul(x,w)+b\n",
    "    with tf.name_scope(\"softmax\"):\n",
    "        prediction = tf.nn.softmax(w_plus_b)\n",
    "\n",
    "#定义代价函数\n",
    "# loss = tf.reduce_mean(tf.square(y-prediction))\n",
    "with tf.name_scope(\"loss\"):\n",
    "    loss = tf.reduce_mean(tf.nn.softmax_cross_entropy_with_logits_v2(labels=y,logits=prediction))#交叉熵\n",
    "\n",
    "#使用梯度下降\n",
    "with tf.name_scope(\"train\"):\n",
    "    train_step = tf.train.GradientDescentOptimizer(0.2).minimize(loss)\n",
    "\n",
    "#初始化变量\n",
    "init = tf.global_variables_initializer()\n",
    "#结果存放在bool型列表中\n",
    "correct_prediction = tf.equal(tf.math.argmax(y,1),tf.math.argmax(prediction,1))\n",
    "#求准确率\n",
    "with tf.name_scope(\"accuary\"):\n",
    "    accuary = tf.reduce_mean(tf.cast(correct_prediction,tf.float32))"
   ]
  },
  {
   "cell_type": "code",
   "execution_count": 6,
   "metadata": {},
   "outputs": [
    {
     "name": "stdout",
     "output_type": "stream",
     "text": [
      "Iter0,Testing Accuary0.7265\n",
      "Iter1,Testing Accuary0.8049\n",
      "Iter2,Testing Accuary0.8154\n",
      "Iter3,Testing Accuary0.8219\n",
      "Iter4,Testing Accuary0.8251\n",
      "Iter5,Testing Accuary0.8275\n",
      "Iter6,Testing Accuary0.8553\n",
      "Iter7,Testing Accuary0.8737\n",
      "Iter8,Testing Accuary0.8854\n",
      "Iter9,Testing Accuary0.8918\n",
      "Iter10,Testing Accuary0.8946\n",
      "Iter11,Testing Accuary0.8977\n",
      "Iter12,Testing Accuary0.8987\n",
      "Iter13,Testing Accuary0.9\n",
      "Iter14,Testing Accuary0.9013\n",
      "Iter15,Testing Accuary0.902\n",
      "Iter16,Testing Accuary0.9029\n",
      "Iter17,Testing Accuary0.9043\n",
      "Iter18,Testing Accuary0.9047\n",
      "Iter19,Testing Accuary0.9053\n"
     ]
    }
   ],
   "source": [
    "with tf.Session() as sess:\n",
    "    sess.run(init)\n",
    "    writer = tf.summary.FileWriter(\"logs/\", sess.graph)\n",
    "    for epoch in range(20):\n",
    "        for batch in range(n_batch):\n",
    "            batch_xs,batch_ys = minist.train.next_batch(batch_size)\n",
    "            sess.run(train_step,feed_dict={x:batch_xs,y:batch_ys})\n",
    "            \n",
    "        acc = sess.run(accuary,feed_dict={x:minist.test.images,y:minist.test.labels})\n",
    "            \n",
    "        print('Iter'+str(epoch)+\",Testing Accuary\"+str(acc))"
   ]
  },
  {
   "cell_type": "code",
   "execution_count": null,
   "metadata": {},
   "outputs": [],
   "source": []
  }
 ],
 "metadata": {
  "kernelspec": {
   "display_name": "Python 3",
   "language": "python",
   "name": "python3"
  },
  "language_info": {
   "codemirror_mode": {
    "name": "ipython",
    "version": 3
   },
   "file_extension": ".py",
   "mimetype": "text/x-python",
   "name": "python",
   "nbconvert_exporter": "python",
   "pygments_lexer": "ipython3",
   "version": "3.6.5"
  }
 },
 "nbformat": 4,
 "nbformat_minor": 2
}
