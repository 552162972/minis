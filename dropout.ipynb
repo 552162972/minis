{
 "cells": [
  {
   "cell_type": "code",
   "execution_count": 1,
   "metadata": {},
   "outputs": [],
   "source": [
    "import tensorflow as tf\n",
    "import tensorflow.examples.tutorials.mnist.input_data as input_data"
   ]
  },
  {
   "cell_type": "code",
   "execution_count": 14,
   "metadata": {},
   "outputs": [
    {
     "name": "stdout",
     "output_type": "stream",
     "text": [
      "Extracting minist_data\\train-images-idx3-ubyte.gz\n",
      "Extracting minist_data\\train-labels-idx1-ubyte.gz\n",
      "Extracting minist_data\\t10k-images-idx3-ubyte.gz\n",
      "Extracting minist_data\\t10k-labels-idx1-ubyte.gz\n"
     ]
    }
   ],
   "source": [
    "#导入数据集\n",
    "minist = input_data.read_data_sets(\"minist_data\",one_hot=True)\n"
   ]
  },
  {
   "cell_type": "code",
   "execution_count": 22,
   "metadata": {},
   "outputs": [],
   "source": [
    "#每个批次的大小\n",
    "batch_size = 100\n",
    "#计算一共有多少个批次\n",
    "n_batch = minist.train.num_examples//batch_size\n",
    "\n",
    "#打定义占位符\n",
    "\n",
    "x = tf.placeholder(tf.float32,[None,784])\n",
    "y = tf.placeholder(tf.float32,[None,10])\n",
    "keep_prob = tf.placeholder(tf.float32)\n",
    "\n",
    "#创建简单网路\n",
    "# keep_prob=0.9\n",
    "w1 = tf.Variable(tf.truncated_normal([784,2000],stddev=0.1))#2000隐藏层\n",
    "b1 = tf.Variable(tf.zeros([2000])+0.1)\n",
    "L1 = tf.nn.tanh(tf.matmul(x,w1)+b1)\n",
    "L1_dropout = tf.nn.dropout(L1,keep_prob)\n",
    "\n",
    "w2 = tf.Variable(tf.truncated_normal([2000,2000],stddev=0.1))\n",
    "b2 = tf.Variable(tf.zeros([2000])+0.1)\n",
    "L2 = tf.nn.tanh(tf.matmul(L1_dropout,w2)+b2)\n",
    "L2_dropout = tf.nn.dropout(L2,keep_prob)\n",
    "\n",
    "w3 = tf.Variable(tf.truncated_normal([2000,1000],stddev=0.1))\n",
    "b3 = tf.Variable(tf.zeros([1000])+0.1)\n",
    "L3 = tf.nn.tanh(tf.matmul(L2_dropout,w3)+b3)\n",
    "L3_dropout = tf.nn.dropout(L3,keep_prob)\n",
    "\n",
    "w4 = tf.Variable(tf.truncated_normal([1000,10],stddev=0.1))\n",
    "b4 = tf.Variable(tf.zeros([10])+0.1)\n",
    "prediction = tf.nn.softmax(tf.matmul(L3_dropout,w4)+b4)\n",
    "\n",
    "#定义代价函数\n",
    "# loss = tf.reduce_mean(tf.square(y-prediction))\n",
    "\n",
    "loss = tf.reduce_mean(tf.nn.softmax_cross_entropy_with_logits_v2(labels=y,logits=prediction))#交叉熵\n",
    "\n",
    "#使用梯度下降\n",
    "train_step = tf.train.GradientDescentOptimizer(0.2).minimize(loss)\n",
    "\n",
    "#初始化变量\n",
    "init = tf.global_variables_initializer()\n",
    "#结果存放在bool型列表中with tf.Session() as sess:\n",
    "\n",
    "correct_prediction = tf.equal(tf.math.argmax(y,1),tf.math.argmax(prediction,1))\n",
    "#求准确率\n",
    "accuary = tf.reduce_mean(tf.cast(correct_prediction,tf.float32))"
   ]
  },
  {
   "cell_type": "code",
   "execution_count": 20,
   "metadata": {},
   "outputs": [
    {
     "name": "stdout",
     "output_type": "stream",
     "text": [
      "Iter0,Testing Accuary0.8266,Train Accuary0.8175273\n",
      "Iter1,Testing Accuary0.8878,Train Accuary0.88014543\n",
      "Iter2,Testing Accuary0.9065,Train Accuary0.90376365\n",
      "Iter3,Testing Accuary0.9185,Train Accuary0.9127273\n",
      "Iter4,Testing Accuary0.9222,Train Accuary0.9184909\n",
      "Iter5,Testing Accuary0.9256,Train Accuary0.92334545\n",
      "Iter6,Testing Accuary0.9282,Train Accuary0.92710906\n",
      "Iter7,Testing Accuary0.9289,Train Accuary0.92947274\n",
      "Iter8,Testing Accuary0.9327,Train Accuary0.9309273\n",
      "Iter9,Testing Accuary0.9351,Train Accuary0.9334546\n",
      "Iter10,Testing Accuary0.9369,Train Accuary0.9357273\n",
      "Iter11,Testing Accuary0.9383,Train Accuary0.9374545\n",
      "Iter12,Testing Accuary0.9384,Train Accuary0.93889093\n",
      "Iter13,Testing Accuary0.9409,Train Accuary0.93994546\n",
      "Iter14,Testing Accuary0.9422,Train Accuary0.9414182\n",
      "Iter15,Testing Accuary0.9406,Train Accuary0.94265455\n",
      "Iter16,Testing Accuary0.9431,Train Accuary0.94347274\n",
      "Iter17,Testing Accuary0.944,Train Accuary0.9445818\n",
      "Iter18,Testing Accuary0.9459,Train Accuary0.9456\n",
      "Iter19,Testing Accuary0.9459,Train Accuary0.94594544\n"
     ]
    }
   ],
   "source": [
    "with tf.Session() as sess:\n",
    "    sess.run(init)\n",
    "    for epoch in range(20):\n",
    "        for batch in range(n_batch):\n",
    "            \n",
    "            batch_xs,batch_ys = minist.train.next_batch(batch_size)\n",
    "            sess.run(train_step,feed_dict={x:batch_xs,y:batch_ys,keep_prob:0.7})\n",
    "        test_acc = sess.run(accuary,feed_dict={x:minist.test.images,y:minist.test.labels,keep_prob:1.0})\n",
    "        train_acc = sess.run(accuary,feed_dict={x:minist.train.images,y:minist.train.labels,keep_prob:1.0})\n",
    "            \n",
    "        print('Iter'+str(epoch)+\",Testing Accuary\"+str(test_acc)+\",Train Accuary\"+str(train_acc))"
   ]
  },
  {
   "cell_type": "code",
   "execution_count": null,
   "metadata": {},
   "outputs": [],
   "source": []
  }
 ],
 "metadata": {
  "kernelspec": {
   "display_name": "Python 3",
   "language": "python",
   "name": "python3"
  },
  "language_info": {
   "codemirror_mode": {
    "name": "ipython",
    "version": 3
   },
   "file_extension": ".py",
   "mimetype": "text/x-python",
   "name": "python",
   "nbconvert_exporter": "python",
   "pygments_lexer": "ipython3",
   "version": "3.6.5"
  }
 },
 "nbformat": 4,
 "nbformat_minor": 2
}
